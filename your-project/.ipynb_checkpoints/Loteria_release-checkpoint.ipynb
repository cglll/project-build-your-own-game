{
 "cells": [
  {
   "cell_type": "markdown",
   "metadata": {
    "id": "lgw_OHG2TbWL"
   },
   "source": [
    "# Loteria Tradicional Mexicana\n"
   ]
  },
  {
   "cell_type": "markdown",
   "metadata": {
    "id": "a1EGcBlgQa0E"
   },
   "source": [
    "Multithreading flag and packages."
   ]
  },
  {
   "cell_type": "code",
   "execution_count": 1,
   "metadata": {
    "id": "1NDOQMvkRupA"
   },
   "outputs": [],
   "source": [
    "from queue import Queue \n",
    "from threading import Thread \n",
    "from ipywidgets import widgets\n",
    "from IPython.display import clear_output\n",
    "from IPython.display import Image\n",
    "label_layout = widgets.Layout(width='600px',height='30px')\n",
    "# Object that signals shutdown \n",
    "_sentinel = object() \n",
    "#Text box for cartas Gritadas\n",
    "carta_Griton=widgets.Text()\n",
    "#text box for timmer\n",
    "tiempo=widgets.Text()\n",
    "#text box for message for the user\n",
    "Mensaje=widgets.Text()\n",
    "#test box for verso\n",
    "Verso=widgets.Text(layout=label_layout)\n",
    "#Button for Gritar Loteria\n",
    "button_Loteria=widgets.Button(description=\"Grito Loteriaaaaa\")\n",
    "#Image Area\n",
    "img=widgets.Image()\n",
    "#Stop flag\n",
    "Loteria_flag=False"
   ]
  },
  {
   "cell_type": "markdown",
   "metadata": {
    "id": "en7sDnPiTbWN"
   },
   "source": [
    "# Area de Griton\n",
    "### El griton se define como la persona que canta el mazo de loteria.\n",
    "## Requerimientos\n",
    "### 1.- Declarar el maso como un set de cartas definidas previamente."
   ]
  },
  {
   "cell_type": "code",
   "execution_count": 2,
   "metadata": {
    "colab": {
     "base_uri": "https://localhost:8080/",
     "height": 54
    },
    "id": "uMICJ7EuTbWN",
    "outputId": "9861f696-06c4-481a-99f2-6620b2b9cad4"
   },
   "outputs": [
    {
     "name": "stdout",
     "output_type": "stream",
     "text": [
      "('1 El Gallo', '2 El Diablito', '3 La Dama', '4 El Catrin', '5 El Paraguas', '6 La Sirena', '7 La Escalera', '8 La Botella', '9 El Barril', '10 El Arbol', '11 El Melon', '12 El Valiente', '13 El Gorrito', '14 La Muerte', '15 La Pera', '16 La Bandera', '17 El Bandolon', '18 El Violoncello', '19 La Garza', '20 El Pajaro', '21 La Mano', '22 La Bota', '23 La Luna', '24 El Cotorro', '25 El Borracho', '26 El Negrito', '27 El Corazon', '28 La Sandia', '29 El Tambor', '30 El Camaron', '31 Las Jaras', '32 El Musico', '33 La Araña', '34 El Soldado', '35 La Estrella', '36 El Cazo', '37 El Mundo', '38 El Apache', '39 El Nopal', '40 El Alacran', '41 La Rosa', '42 La Calavera', '43 La Campana', '44 El Cantarito', '45 El Venado', '46 El Sol', '47 La Corona', '48 La Chalupa', '49 El Pino', '50 El Pescado', '51 La Palma', '52 La Maceta', '53 El Arpa', '54 La Rana')\n"
     ]
    }
   ],
   "source": [
    "\n",
    "mazo= (\"1 El Gallo\", \"2 El Diablito\", \"3 La Dama\", \"4 El Catrin\", \"5 El Paraguas\", \"6 La Sirena\", \"7 La Escalera\", \"8 La Botella\", \"9 El Barril\",\\\n",
    "          \"10 El Arbol\", \"11 El Melon\", \"12 El Valiente\", \"13 El Gorrito\", \"14 La Muerte\", \"15 La Pera\", \"16 La Bandera\", \"17 El Bandolon\",\\\n",
    "          \"18 El Violoncello\", \"19 La Garza\", \"20 El Pajaro\", \"21 La Mano\", \"22 La Bota\", \"23 La Luna\", \"24 El Cotorro\", \"25 El Borracho\",\\\n",
    "          \"26 El Negrito\", \"27 El Corazon\", \"28 La Sandia\", \"29 El Tambor\", \"30 El Camaron\", \"31 Las Jaras\", \"32 El Musico\", \"33 La Araña\",\\\n",
    "          \"34 El Soldado\", \"35 La Estrella\", \"36 El Cazo\", \"37 El Mundo\", \"38 El Apache\", \"39 El Nopal\", \"40 El Alacran\", \"41 La Rosa\",\\\n",
    "          \"42 La Calavera\", \"43 La Campana\", \"44 El Cantarito\", \"45 El Venado\", \"46 El Sol\", \"47 La Corona\", \"48 La Chalupa\",\"49 El Pino\",\"50 El Pescado\",\"51 La Palma\",\"52 La Maceta\",\"53 El Arpa\",\"54 La Rana\")\n",
    "Versos={\"1 El Gallo\":\"El que canto a san pedro no le volvera a cantar\", \"2 El Diablito\":\"Son las mujeres cuando se quieren casar\", \"3 La Dama\":\"La chula se Severiana un tacon queria empeñar\", \"4 El Catrin\":\"Don Ferruco en la Alameda su baston queria empeñar\", \"5 El Paraguas\":\"El paraguas quitasol\", \"6 La Sirena\":\"Medio cuerpo de sirena medio cuerpo de mujer\", \"7 La Escalera\":\"La escalera, siete palos, la escalera del pintor\", \"8 La Botella\":\"La botella del tequila, la botella del mezcal\", \"9 El Barril\":\"El barril del quintaleño, el barril del mezcal\",\\\n",
    "          \"10 El Arbol\":\"El arbol de la esperanza que de venir no se cansa\", \"11 El Melon\":\"El melon y sus olores, un pedazo me has de dar\", \"12 El Valiente\":\"Tate quieto Valentin, no te vayas a pelear\", \"13 El Gorrito\":\"El gorrito ponle al nene, no se te vaya a resfriar\", \"14 La Muerte\":\"La muerte siriquiflaca, montada en su burra flaca\", \"15 La Pera\":\"Me esperas donde quedamos, para poder platicar\", \"16 La Bandera\":\"Bonito cinco de mayo, el pabellon nacional\", \"17 El Bandolon\":\"El bandolon ya no suena hay que llevarlo a afinar\",\\\n",
    "          \"18 El Violoncello\":\"El violoncello del maistro, que no deja de sonar\", \"19 La Garza\":\"Llegaron los picos largos de la feria de San Juan\", \"20 El Pajaro\":\"El pajaro churlumirlo que no deja de cantar\", \"21 La Mano\":\"La mano del escribano, la mano del criminal\", \"22 La Bota\":\"La bota rechina, la bota del general\", \"23 La Luna\":\"La luna tuerta de un ojo, que no deja de brillar\", \"24 El Cotorro\":\"Perico, da aca la pata y empiezame a platicar \\n los trabajos que pasabas cuando no sabias hablar\", \"25 El Borracho\":\"Al borracho, mi compañero ya se lo van a cargar\",\\\n",
    "          \"26 El Negrito\":\"Para negros, en la Habana; uno acaba de llegar\", \"27 El Corazon\":\"El corazon de una ingrata yo lo voy a traspasar\", \"28 La Sandia\":\"La sandia y su rebanada, un pedazo me has de dar\", \"29 El Tambor\":\"No te arruges, cuero viejo, que te quiero pa tambor\", \"30 El Camaron\":\"Camaron que se duerme se lo lleva la corriente\", \"31 Las Jaras\":\"Las jaras o no las jaras, o las dejas de jalar\", \"32 El Musico\":\"El musico, trompa de hule\", \"33 La Araña\":\"La araña teje su tela\",\\\n",
    "          \"34 El Soldado\":\"Centinela, ponte alerta, que te habla tu general\", \"35 La Estrella\":\"La estrella polar del norte, que no deja de brillar\", \"36 El Cazo\":\"El caso que te hago es poco; el caso es averiguar\", \"37 El Mundo\":\"El mundo es una bola y nosotros, un bolon\", \"38 El Apache\":\"Para apaches, en Chihuahua; uno acaba de llegar\", \"39 El Nopal\":\"El auxilio de San Luis, que le llaman el nopal\", \"40 El Alacran\":\"No levantes esa piedra que te pica ese animal!\", \"41 La Rosa\":\"Rosa, Rosita, Rosaura, Rosita se ha de llamar\",\\\n",
    "          \"42 La Calavera\":\"Ya te vi de anca la huera\", \"43 La Campana\":\"La campana, y tu, debajo\", \"44 El Cantarito\":\"Todo cabe en un jarrito, sabiendolo acomodar\", \"45 El Venado\":\"Don Venancio, a la carrera, un balazo le han de dar\", \"46 El Sol\":\"Solito me estoy quedando, solito me he de quedar\", \"47 La Corona\":\"Si te mueres, te la pongo, la coronita imperial\", \"48 La Chalupa\":\"Rema y rema, Joaquinita, y no dejes de remar\",\"49 El Pino\":\"Te empino y me voy de paso, y empinado has de quedar\",\"50 El Pescado\":\"Me pescaron vacilandoen la puerta del zaguan\",\"51 La Palma\":\"Sube a la palma, palmero, y bajame un costal\",\"52 La Maceta\":\"En la maceta me dieron, por no saber barajar\",\"53 El Arpa\":\"El arpa vieja de mi suegra\",\"54 La Rana\":\"Que saltos pega tu hermana en la puerta del zaguan!\"}\n",
    "cartas_cantadas=[];\n",
    "print(mazo)"
   ]
  },
  {
   "cell_type": "markdown",
   "metadata": {},
   "source": [
    "### Despliegue visual de cartas"
   ]
  },
  {
   "cell_type": "code",
   "execution_count": 3,
   "metadata": {},
   "outputs": [
    {
     "data": {
      "application/vnd.jupyter.widget-view+json": {
       "model_id": "d649459716514fd7866842dc845a4983",
       "version_major": 2,
       "version_minor": 0
      },
      "text/plain": [
       "Image(value=b'\\xff\\xd8\\xff\\xe1 \\xb8Exif\\x00\\x00MM\\x00*\\x00\\x00\\x00\\x08\\x00\\x07\\x01\\x12\\x00\\x03\\x00\\x00\\x00\\x01…"
      ]
     },
     "metadata": {},
     "output_type": "display_data"
    }
   ],
   "source": [
    "#carta=\"1 El Gallo\"\n",
    "#file=open('./cartas/'+carta.lower()+'.jpg',\"rb\")\n",
    "#image=file.read()\n",
    "#img=widgets.Image(value=image,format='JPG',width=200)\n",
    "#display(img)\n",
    "def imagen_carta(carta):\n",
    "    import os\n",
    "    if(os.path.exists('./cartas/'+carta.lower()+'.jpg')):\n",
    "        file=open('./cartas/'+carta.lower()+'.jpg',\"rb\")\n",
    "        image=file.read()\n",
    "        img.value=image\n",
    "        img.width=100\n",
    "    else:\n",
    "        file=open('./cartas/'+'Nothing'+'.jpg',\"rb\")\n",
    "        image=file.read()\n",
    "        img.value=image\n",
    "        \n",
    "def imagen_carton(carta):\n",
    "    import os\n",
    "    if(os.path.exists('./cartas/'+carta.lower()+'.jpg')):\n",
    "        file=open('./cartas/'+carta.lower()+'.jpg',\"rb\")\n",
    "        image=file.read()\n",
    "        carta=widgets.Image(value=image,width=100)\n",
    "    else:\n",
    "        file=open('./cartas/'+'Nothing'+'.jpg',\"rb\")\n",
    "        image=file.read()\n",
    "        carta=widgets.Image(value=image,width=100)\n",
    "    return carta\n",
    "    #img.((value=image,format='JPG',width=200)\n",
    "    \n",
    "#display(img)\n",
    "#imagen_carta(\"1 El Gallo\")\n",
    "#imagen_carta(\"2 El Don\")\n",
    "display(imagen_carton(\"1 El Gallo\"))"
   ]
  },
  {
   "cell_type": "markdown",
   "metadata": {
    "id": "O2KqYNKhTbWR"
   },
   "source": [
    "### 2.-Revolver las cartas y colocarlas en una lista. "
   ]
  },
  {
   "cell_type": "code",
   "execution_count": 4,
   "metadata": {
    "colab": {
     "base_uri": "https://localhost:8080/",
     "height": 54
    },
    "id": "ZD2XM11VTbWR",
    "outputId": "df3f0c8a-1645-43e5-c7a0-f322ca831087"
   },
   "outputs": [
    {
     "name": "stdout",
     "output_type": "stream",
     "text": [
      "['47 La Corona', '35 La Estrella', '22 La Bota', '34 El Soldado', '54 La Rana', '33 La Araña', '52 La Maceta', '36 El Cazo', '21 La Mano', '46 El Sol', '5 El Paraguas', '28 La Sandia', '49 El Pino', '10 El Arbol', '45 El Venado', '2 El Diablito', '25 El Borracho', '50 El Pescado', '8 La Botella', '9 El Barril', '23 La Luna', '31 Las Jaras', '11 El Melon', '41 La Rosa', '3 La Dama', '38 El Apache', '53 El Arpa', '16 La Bandera', '18 El Violoncello', '20 El Pajaro', '12 El Valiente', '40 El Alacran', '37 El Mundo', '30 El Camaron', '26 El Negrito', '24 El Cotorro', '51 La Palma', '15 La Pera', '4 El Catrin', '44 El Cantarito', '7 La Escalera', '32 El Musico', '6 La Sirena', '29 El Tambor', '17 El Bandolon', '19 La Garza', '1 El Gallo', '42 La Calavera', '43 La Campana', '39 El Nopal', '27 El Corazon', '13 El Gorrito', '48 La Chalupa', '14 La Muerte']\n"
     ]
    }
   ],
   "source": [
    "\n",
    "     \"\"\"Gets the mazo set and mix them randomly\n",
    "\n",
    "    Parameters\n",
    "    ----------\n",
    "    mazo : set with the Loteria cards    \n",
    "\n",
    "    Returns\n",
    "    -------\n",
    "    list\n",
    "        a list with randomly mixed cards of Loteria\n",
    "    \"\"\"\n",
    "def Revolver(mazo):\n",
    "    import random\n",
    "    revol=list(random.sample(mazo, len(mazo)))\n",
    "    return revol\n",
    "\n",
    "print(Revolver(mazo))"
   ]
  },
  {
   "cell_type": "markdown",
   "metadata": {
    "id": "STuMqcweTbWU"
   },
   "source": [
    "### 3.- Subrutina cantando las cartas. La lista se debe ir vaciando, tal vez con un next y cada que se saca una carta imprimir que carta salio, esperar un tiempo configurable de delay por ejemplo 5s y proseguir hasta vaciar la lista.\n"
   ]
  },
  {
   "cell_type": "code",
   "execution_count": 5,
   "metadata": {
    "colab": {
     "base_uri": "https://localhost:8080/",
     "height": 1000
    },
    "id": "00BgzHexTbWV",
    "outputId": "18660fd6-a4f9-4dd0-d42a-e1c53223e8fa"
   },
   "outputs": [],
   "source": [
    "\n",
    "\"\"\"Starts a countdown to show the user how many time the card shout is shown.\n",
    "Parameters\n",
    " ----------\n",
    "t : time in seconds    \n",
    "\"\"\"\n",
    "def countdown(t): \n",
    "    import time\n",
    "    while t: \n",
    "        timer=str(t)\n",
    "        tiempo.value=timer \n",
    "        time.sleep(1) \n",
    "        t -= 1\n",
    "\n",
    "\"\"\"Pass the cards to a queue and display it to the user.\n",
    "\n",
    "    Parameters\n",
    "    ----------\n",
    "    out_cartas_IA : queue that is sent to the IA thread.\n",
    "    cartas: set of cards that will be shouted.\n",
    "    seconds: Time card is displayed\n",
    "    input_stop: queue to receive with stop sentinel\n",
    "    \"\"\"\n",
    "def cantando_cartas(out_cartas_IA,cartas,seconds,input_stop):\n",
    "    import time\n",
    "    random_mazo=iter(Revolver(cartas))\n",
    "    \n",
    "    for carta in cartas:\n",
    "        if not(input_stop.empty()):\n",
    "            data=input_stop.get()\n",
    "            if data is _sentinel:\n",
    "                out_cartas_IA.put(_sentinel)\n",
    "                break\n",
    "      #print(\"en canta cartas\")\n",
    "        countdown(seconds)\n",
    "        cantada=next(random_mazo)\n",
    "        cartas_cantadas.append(cantada)\n",
    "      #clear_output(wait=True)\n",
    "        carta_Griton.value=cantada\n",
    "        Verso.value=Versos[cantada]\n",
    "        imagen_carta(cantada)\n",
    "        out_cartas_IA.put(cantada)\n",
    "     # Put the sentinel on the queue to indicate completion \n",
    "    out_cartas_IA.put(_sentinel) \n",
    "\n",
    "#cantando_cartas(p,mazo,1)\n",
    "#countdown(20)"
   ]
  },
  {
   "cell_type": "markdown",
   "metadata": {
    "id": "tKQOtSy1TbWX"
   },
   "source": [
    "# Area Creando los Cartones\n",
    "### Los cartones en la loteria se reparten entre los jugadores y cada jugador los va marcando conforme el griton los canta con un frijol o corcholata. \n",
    "\n",
    "## Requerimientos\n",
    "\n",
    "### 1.- Definir cada carton como un diccionario en el cual la llave sera la imagen y el valor un booleano representando el frijol que marca si la carta ya salio."
   ]
  },
  {
   "cell_type": "code",
   "execution_count": 6,
   "metadata": {
    "id": "gE5vkgvuTbWY"
   },
   "outputs": [],
   "source": [
    "\n",
    "     \"\"\"Randomly creates a card of n number of elements\n",
    "\n",
    "    Parameters\n",
    "    ----------\n",
    "    mazo : set with the Loteria cards\n",
    "    n : number of elements in carton\n",
    "\n",
    "    Returns\n",
    "    -------\n",
    "    Dictionary\n",
    "        dictionary of elements where key is card and value is boolean. True if selected, False if not selected.\n",
    "    \"\"\"\n",
    "def crear_carton(mazo,n):\n",
    "    import random\n",
    "    return {key:False for key in random.sample(mazo, n)}\n"
   ]
  },
  {
   "cell_type": "markdown",
   "metadata": {
    "id": "_0LHgW91TbWa"
   },
   "source": [
    "### 2.- Funcion para crear un carton de n elementos. Se itera un loop a traves de los n elementos a escoger de los contenidos en el mazo.  Los elementos en el carton no deben repetirse. Se generaran 2 cartones distintos uno para el jugador persona y otro para el jugador IA."
   ]
  },
  {
   "cell_type": "code",
   "execution_count": 7,
   "metadata": {
    "id": "Z2gPvYTlTbWa"
   },
   "outputs": [
    {
     "name": "stdout",
     "output_type": "stream",
     "text": [
      "{'8 La Botella': False, '51 La Palma': False, '32 El Musico': False, '33 La Araña': False, '7 La Escalera': False, '15 La Pera': False}\n",
      "{'52 La Maceta': False, '10 El Arbol': False, '35 La Estrella': False, '54 La Rana': False, '3 La Dama': False, '6 La Sirena': False}\n"
     ]
    }
   ],
   "source": [
    "carton_1={\"1 El Gallo\":False, \"2 El Diablo\":False, \"3 La Dama\":False, \"4 El Catrín\":False, \"5 El Paraguas\":False, \"6 La Sirena\":False}\n",
    "carton_2={\"43 La Campana\":False, \"2 El Diablo\":False, \"3 La Dama\":False, \"4 El Catrín\":False, \"5 El Paraguas\":False, \"6 La Sirena\":False}\n",
    "\n",
    "carton_1=crear_carton(mazo,6)\n",
    "carton_2=crear_carton(mazo,6)\n",
    "print(carton_1)\n",
    "print(carton_2)"
   ]
  },
  {
   "cell_type": "markdown",
   "metadata": {
    "id": "xHuXSlgTTbWe"
   },
   "source": [
    "# Area jugador IA\n",
    "### El jugador IA sera el contrincante del jugador organico. \n",
    "\n",
    "## Requerimientos\n",
    "\n",
    "### 1.- Definir la funcion que  llenara el carton (diccionario con cartas key y booleanos como frijoles.) Cada que el Griton IA cante una carta, el jugador IA buscara en su carton si esa carta esta en su carton y si esta la marcara con un frijol representado por un true en el booleano."
   ]
  },
  {
   "cell_type": "code",
   "execution_count": 8,
   "metadata": {
    "id": "O6H67jDGTbWe"
   },
   "outputs": [],
   "source": [
    "\"\"\"Checks the IA carton elements if cards where shouted\n",
    "\n",
    "Parameters\n",
    "----------\n",
    "in_cartas_IA : queue of cards that are shouted\n",
    "carton2 : IA carton\n",
    "\n",
    "\"\"\"\n",
    "\n",
    "def marca_carton(in_cartas_IA,carton2):\n",
    "    import time\n",
    "  # Check for termination \n",
    "    while True:\n",
    "        time.sleep(2)\n",
    "    #print(\"en marca carton\")\n",
    "        if not(in_cartas_IA.empty()):\n",
    "            data = in_cartas_IA.get() \n",
    "            if data in carton2:\n",
    "                carton2[data]=True\n",
    "                print(carton2,flush=True)\n",
    "            elif data is _sentinel: \n",
    "                in_cartas_IA.put(_sentinel) \n",
    "                break\n",
    "    \n",
    "\n",
    "\n"
   ]
  },
  {
   "cell_type": "markdown",
   "metadata": {
    "id": "nU36GRW4TbWi"
   },
   "source": [
    "# Area jugador organico\n",
    "### El jugador organico representa a un sistema vivo que interactua con los IA.\n",
    "\n",
    "## Requerimientos\n",
    "\n",
    "### 1.- Implementar una interfaz donde el jugador organico pueda poner su frijol en su carton. (Marcar con true el carton si su subproceso considera que el carton ya fue gritado por el Griton IA o bien un 0 si el cree que cometio un error) Esta area esta en la implementacion integrada por la interactividad."
   ]
  },
  {
   "cell_type": "code",
   "execution_count": null,
   "metadata": {
    "id": "4srBAwLzTbWi"
   },
   "outputs": [],
   "source": []
  },
  {
   "cell_type": "markdown",
   "metadata": {},
   "source": [
    "# Area de Verificacion\n",
    "### 1.-Esta subrutina verifica quien gano una vez que su carton este lleno. En cuanto este lleno el sistema hara la parada y seleccionara el Ganador."
   ]
  },
  {
   "cell_type": "code",
   "execution_count": 9,
   "metadata": {},
   "outputs": [],
   "source": [
    "#Sentencia de parada gana IA\n",
    "\n",
    "\"\"\"Verifies if IA wins and stops threads\n",
    "\n",
    "Parameters\n",
    "----------\n",
    "out_stop_q : queue of to stop threads\n",
    "carton_2 : IA carton\n",
    "Loteria_flag:flag raised if the organic user shout Loteria\n",
    "\n",
    "\"\"\"\n",
    "\n",
    "def Verificar(out_stop_q,carton_2,Loteria_flag):\n",
    "    flag=True\n",
    "    while flag==True:\n",
    "        if not(out_stop_q.empty()):\n",
    "            data = out_stop_q.get() \n",
    "            if data is _sentinel:\n",
    "                out_stop_q.put(_sentinel) \n",
    "                break\n",
    "        if all(value == True for value in carton_2.values()):\n",
    "            Mensaje.value=\"Jugador IA ha ganado\"\n",
    "            out_stop_q.put(_sentinel)\n",
    "            print(cartas_cantadas)\n",
    "            print(carton_1)\n",
    "            print(carton_2)\n",
    "            break\n",
    "        elif(Loteria_flag==True):\n",
    "            out_stop_q.put(_sentinel)\n",
    "            print(cartas_cantadas)\n",
    "            print(carton_1)\n",
    "            print(carton_2)\n",
    "            break\n",
    "        \n",
    "    \n",
    "   \n",
    "          \n",
    "#Sentencia de parada jugador organico sujeta a verifiacion, los humanos son falibles y las IA tmb porque son creaciones humanas\n",
    "\"\"\"Event on click function it verifies if user wins, if it cheats or if he has not checked all his cards\n",
    "    Fills the Message Box\n",
    "\"\"\"\n",
    "def on_button_Loteria(b):\n",
    "    if all(value == True for value in carton_1.values()):\n",
    "        if all(key in cartas_cantadas for key in carton_1.keys()):\n",
    "            Mensaje.value=\"Jugador Organico ha ganado\"\n",
    "        else:\n",
    "            Mensaje.value=\"Tramposo. Marcaste Cartas que no han salido.\"\n",
    "        Loteria_flag=True\n",
    "        s.put(_sentinel)\n",
    "    else:\n",
    "        Mensaje.value=\"Continua Jugando aun no llenas tu carton\"\n"
   ]
  },
  {
   "cell_type": "markdown",
   "metadata": {
    "id": "o7jtv48CTbWl"
   },
   "source": [
    "# Area integracion \n",
    "### En esta zona se integrara todo el codigo para ejecutar el juego como tal.\n",
    "## Requerimientos\n",
    "### 1.-Integrar el codigo definido en el pseudocodigo/diagrama de flujo para la interaccion entre las dos IA y el jugador organico. El sistema se implementara secuencialmente y posteriormente en 3 threads distintos."
   ]
  },
  {
   "cell_type": "code",
   "execution_count": 12,
   "metadata": {},
   "outputs": [
    {
     "name": "stdout",
     "output_type": "stream",
     "text": [
      "Mensajes al Usuario\n"
     ]
    },
    {
     "data": {
      "application/vnd.jupyter.widget-view+json": {
       "model_id": "1cb1b5ed70224a43bc3232d9dcbf7a28",
       "version_major": 2,
       "version_minor": 0
      },
      "text/plain": [
       "HBox(children=(VBox(children=(Text(value=''), Text(value=''), Text(value=''))), VBox(children=(Image(value=b'\\…"
      ]
     },
     "metadata": {},
     "output_type": "display_data"
    },
    {
     "data": {
      "application/vnd.jupyter.widget-view+json": {
       "model_id": "09d484317d454196aa441886d72bd86b",
       "version_major": 2,
       "version_minor": 0
      },
      "text/plain": [
       "Text(value='El bandolon ya no suena hay que llevarlo a afinar', layout=Layout(height='30px', width='600px'))"
      ]
     },
     "metadata": {},
     "output_type": "display_data"
    },
    {
     "name": "stdout",
     "output_type": "stream",
     "text": [
      "Tu carton\n"
     ]
    },
    {
     "data": {
      "application/vnd.jupyter.widget-view+json": {
       "model_id": "dba1efe91ea54e169072ba9254114556",
       "version_major": 2,
       "version_minor": 0
      },
      "text/plain": [
       "HBox(children=(VBox(children=(VBox(children=(Image(value=b'\\xff\\xd8\\xff\\xe0\\x00\\x10JFIF\\x00\\x01\\x01\\x00\\x00\\x0…"
      ]
     },
     "metadata": {},
     "output_type": "display_data"
    },
    {
     "data": {
      "application/vnd.jupyter.widget-view+json": {
       "model_id": "5935e903081947a9b7ec217eb404ff4e",
       "version_major": 2,
       "version_minor": 0
      },
      "text/plain": [
       "Button(description='Grito Loteriaaaaa', style=ButtonStyle())"
      ]
     },
     "metadata": {},
     "output_type": "display_data"
    },
    {
     "name": "stdout",
     "output_type": "stream",
     "text": [
      "[]\n",
      "{'29 El Tambor': False, '42 La Calavera': False, '34 El Soldado': False, '1 El Gallo': False, '52 La Maceta': False, '20 El Pajaro': False}\n",
      "{'35 La Estrella': False, '20 El Pajaro': False, '43 La Campana': False, '18 El Violoncello': False, '45 El Venado': False, '42 La Calavera': False}\n",
      "{'35 La Estrella': False, '20 El Pajaro': False, '43 La Campana': False, '18 El Violoncello': True, '45 El Venado': False, '42 La Calavera': False}\n",
      "{'29 El Tambor': False, '42 La Calavera': False, '34 El Soldado': True, '1 El Gallo': False, '52 La Maceta': False, '20 El Pajaro': False}\n",
      "{'35 La Estrella': False, '20 El Pajaro': True, '43 La Campana': False, '18 El Violoncello': True, '45 El Venado': False, '42 La Calavera': False}\n",
      "{'29 El Tambor': False, '42 La Calavera': False, '34 El Soldado': True, '1 El Gallo': False, '52 La Maceta': False, '20 El Pajaro': True}\n",
      "{'29 El Tambor': True, '42 La Calavera': False, '34 El Soldado': True, '1 El Gallo': False, '52 La Maceta': False, '20 El Pajaro': True}\n",
      "{'35 La Estrella': False, '20 El Pajaro': True, '43 La Campana': False, '18 El Violoncello': True, '45 El Venado': True, '42 La Calavera': False}\n",
      "{'35 La Estrella': False, '20 El Pajaro': True, '43 La Campana': True, '18 El Violoncello': True, '45 El Venado': True, '42 La Calavera': False}\n",
      "{'35 La Estrella': False, '20 El Pajaro': True, '43 La Campana': True, '18 El Violoncello': True, '45 El Venado': True, '42 La Calavera': True}\n",
      "{'29 El Tambor': True, '42 La Calavera': True, '34 El Soldado': True, '1 El Gallo': False, '52 La Maceta': False, '20 El Pajaro': True}\n",
      "{'29 El Tambor': True, '42 La Calavera': True, '34 El Soldado': True, '1 El Gallo': False, '52 La Maceta': True, '20 El Pajaro': True}\n",
      "{'29 El Tambor': True, '42 La Calavera': True, '34 El Soldado': True, '1 El Gallo': True, '52 La Maceta': True, '20 El Pajaro': True}\n"
     ]
    }
   ],
   "source": [
    "from ipywidgets import HBox, VBox\n",
    "#Queue to pass the shouted cards\n",
    "q = Queue() \n",
    "#Queue to pass the stop sentinel\n",
    "s= Queue()\n",
    "#number of threads\n",
    "num_fetch_threads = 4\n",
    "#stop condition\n",
    "Loteria_flag=False\n",
    "# Object that signals shutdown \n",
    "_sentinel = object() \n",
    "#Array to verify which cards where shout\n",
    "cartas_cantadas=[]\n",
    "\n",
    "#Creacion de los cartones\n",
    "carton_1=crear_carton(mazo,6)\n",
    "carton_2=crear_carton(mazo,6)\n",
    "\n",
    "#array of button to display the carton\n",
    "button=[]\n",
    "i=0\n",
    "#Text box clean message\n",
    "Mensaje.value=\"\"\n",
    "carta_Griton.value=\"\"\n",
    "tiempo.value=\"\"\n",
    "#test box indication messages\n",
    "print(\"Mensajes al Usuario\")\n",
    "#display(Mensaje)\n",
    "imagen_carta(\"\")\n",
    "display(HBox([VBox([Mensaje,carta_Griton,tiempo]),VBox([img])]))\n",
    "display(Verso)\n",
    "#print(\"Timer\")\n",
    "#display(tiempo)\n",
    "Mensaje.value=\"Inicia el juego\"\n",
    "print(\"Tu carton\")\n",
    "#Event that changes the card style\n",
    "def on_button_clicked(b):\n",
    "    carton_1[b.description]=not(carton_1[b.description])\n",
    "    if carton_1[b.description]==True:\n",
    "        b.button_style='success'\n",
    "    else:\n",
    "        b.button_style='danger'\n",
    "    print(carton_1)\n",
    "elements_image=[]\n",
    "#Dynamic creation of buttons depending on the card\n",
    "\n",
    "for key in carton_1.keys():\n",
    "    but=widgets.Button(description=key,button_style='danger')\n",
    "    button.append(but)\n",
    "    elements_image.append(VBox([imagen_carton(key.lower()),but]))\n",
    "    button[i].on_click(on_button_clicked)\n",
    "    #display(button[i])\n",
    "    i=i+1\n",
    "    \n",
    "left_box = VBox([elements_image[i] for i in range(2)])\n",
    "center_box=VBox([elements_image[i] for i in range(2,4)])\n",
    "right_box = VBox([elements_image[i] for i in range(4,6)])\n",
    "\n",
    "display(HBox([left_box, center_box,right_box]))\n",
    "\n",
    "#Button to shout Loteria\n",
    "display(button_Loteria)\n",
    "\n",
    "#Simultaneous threads Griton,IA Checking is card, #verification\n",
    "t1 = Thread(target = cantando_cartas, args =(q,Revolver(mazo),2,s)) \n",
    "t2 = Thread(target = marca_carton, args =(q,carton_2)) \n",
    "t3 = Thread(target = Verificar, args =(s,carton_2,Loteria_flag)) \n",
    "t1.start() \n",
    "t2.start()\n",
    "t3.start()\n",
    "\n",
    "#t1.join()\n",
    "#t2.join()\n",
    "#t3.join()\n",
    "\n",
    "#Subrutina to generate the stop condition if user shout Loteria.\n",
    "def Terminar(terminar_q,carton_1_2,Loteria_flag):\n",
    "    Loteria_flag=True\n",
    "    terminar_q.put(_sentinel)\n",
    "    \n",
    "    \n",
    "#Click Event if user clicks shout loteria button.\n",
    "def on_button_Loteria(b):\n",
    "    if all(value == True for value in carton_1.values()):\n",
    "        if all(key in cartas_cantadas for key in carton_1.keys()):\n",
    "            Mensaje.value=\"Jugador Organico ha ganado\"\n",
    "        else:\n",
    "            Mensaje.value=\"Tramposo. Marcaste Cartas que no han salido.\"\n",
    "        Loteria_flag=True\n",
    "        t4=Thread(target=Terminar,args=(s,carton_1,Loteria_flag))\n",
    "        t4.start()\n",
    "    else:\n",
    "        Mensaje.value=\"Continua Jugando aun no llenas tu carton\"\n",
    "        \n",
    "button_Loteria.on_click(on_button_Loteria)\n",
    "\n",
    "print(cartas_cantadas)\n",
    "print(carton_1)\n",
    "print(carton_2)"
   ]
  },
  {
   "cell_type": "code",
   "execution_count": null,
   "metadata": {},
   "outputs": [],
   "source": []
  }
 ],
 "metadata": {
  "celltoolbar": "Raw Cell Format",
  "colab": {
   "collapsed_sections": [],
   "name": "Copy of Loteria.ipynb",
   "provenance": []
  },
  "kernelspec": {
   "display_name": "Python 3",
   "language": "python",
   "name": "python3"
  },
  "language_info": {
   "codemirror_mode": {
    "name": "ipython",
    "version": 3
   },
   "file_extension": ".py",
   "mimetype": "text/x-python",
   "name": "python",
   "nbconvert_exporter": "python",
   "pygments_lexer": "ipython3",
   "version": "3.8.3"
  }
 },
 "nbformat": 4,
 "nbformat_minor": 1
}
