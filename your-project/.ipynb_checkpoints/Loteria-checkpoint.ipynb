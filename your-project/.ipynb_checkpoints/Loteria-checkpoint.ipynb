{
 "cells": [
  {
   "cell_type": "markdown",
   "metadata": {
    "id": "lgw_OHG2TbWL"
   },
   "source": [
    "# Loteria Tradicional Mexicana\n"
   ]
  },
  {
   "cell_type": "markdown",
   "metadata": {
    "id": "a1EGcBlgQa0E"
   },
   "source": [
    "Multithreading flag and packages."
   ]
  },
  {
   "cell_type": "code",
   "execution_count": 1,
   "metadata": {
    "id": "1NDOQMvkRupA"
   },
   "outputs": [],
   "source": [
    "from queue import Queue \n",
    "from threading import Thread \n",
    "from ipywidgets import widgets\n",
    "from IPython.display import clear_output\n",
    "from IPython.display import Image\n",
    "\n",
    "# Object that signals shutdown \n",
    "_sentinel = object() \n",
    "#Text box for cartas Gritadas\n",
    "carta_Griton=widgets.Text()\n",
    "#text box for timmer\n",
    "tiempo=widgets.Text()\n",
    "#text box for message for the user\n",
    "Mensaje=widgets.Text()\n",
    "#Button for Gritar Loteria\n",
    "button_Loteria=widgets.Button(description=\"Grito Loteriaaaaa\")\n",
    "#Image Area\n",
    "img=widgets.Image()\n",
    "#Stop flag\n",
    "Loteria_flag=False"
   ]
  },
  {
   "cell_type": "markdown",
   "metadata": {
    "id": "en7sDnPiTbWN"
   },
   "source": [
    "# Area de Griton\n",
    "### El griton se define como la persona que canta el mazo de loteria.\n",
    "## Requerimientos\n",
    "### 1.- Declarar el maso como un set de cartas definidas previamente."
   ]
  },
  {
   "cell_type": "code",
   "execution_count": 3,
   "metadata": {
    "colab": {
     "base_uri": "https://localhost:8080/",
     "height": 54
    },
    "id": "uMICJ7EuTbWN",
    "outputId": "9861f696-06c4-481a-99f2-6620b2b9cad4"
   },
   "outputs": [
    {
     "name": "stdout",
     "output_type": "stream",
     "text": [
      "('1 El Gallo', '2 El Diablito', '3 La Dama', '4 El Catrin', '5 El Paraguas', '6 La Sirena', '7 La Escalera', '8 La Botella', '9 El Barril', '10 El Arbol', '11 El Melon', '12 El Valiente', '13 El Gorrito', '14 La Muerte', '15 La Pera', '16 La Bandera', '17 El Bandolon', '18 El Violoncello', '19 La Garza', '20 El Pajaro', '21 La Mano', '22 La Bota', '23 La Luna', '24 El Cotorro', '25 El Borracho', '26 El Negrito', '27 El Corazon', '28 La Sandia', '29 El Tambor', '30 El Camaron', '31 Las Jaras', '32 El Musico', '33 La Arana', '34 El Soldado', '35 La Estrella', '36 El Cazo', '37 El Mundo', '38 El Apache', '39 El Nopal', '40 El Alacran', '41 La Rosa', '42 La Calavera', '43 La Campana', '44 El Cantarito', '45 El Venado', '46 El Sol', '47 La Corona', '48 La Chalupa')\n"
     ]
    }
   ],
   "source": [
    "\n",
    "mazo= (\"1 El Gallo\", \"2 El Diablito\", \"3 La Dama\", \"4 El Catrin\", \"5 El Paraguas\", \"6 La Sirena\", \"7 La Escalera\", \"8 La Botella\", \"9 El Barril\",\\\n",
    "          \"10 El Arbol\", \"11 El Melon\", \"12 El Valiente\", \"13 El Gorrito\", \"14 La Muerte\", \"15 La Pera\", \"16 La Bandera\", \"17 El Bandolon\",\\\n",
    "          \"18 El Violoncello\", \"19 La Garza\", \"20 El Pajaro\", \"21 La Mano\", \"22 La Bota\", \"23 La Luna\", \"24 El Cotorro\", \"25 El Borracho\",\\\n",
    "          \"26 El Negrito\", \"27 El Corazon\", \"28 La Sandia\", \"29 El Tambor\", \"30 El Camaron\", \"31 Las Jaras\", \"32 El Musico\", \"33 La Arana\",\\\n",
    "          \"34 El Soldado\", \"35 La Estrella\", \"36 El Cazo\", \"37 El Mundo\", \"38 El Apache\", \"39 El Nopal\", \"40 El Alacran\", \"41 La Rosa\",\\\n",
    "          \"42 La Calavera\", \"43 La Campana\", \"44 El Cantarito\", \"45 El Venado\", \"46 El Sol\", \"47 La Corona\", \"48 La Chalupa\")\n",
    "cartas_cantadas=[];\n",
    "print(mazo)"
   ]
  },
  {
   "cell_type": "markdown",
   "metadata": {},
   "source": [
    "### Despliegue visual de cartas"
   ]
  },
  {
   "cell_type": "code",
   "execution_count": 4,
   "metadata": {},
   "outputs": [
    {
     "data": {
      "application/vnd.jupyter.widget-view+json": {
       "model_id": "060d54b5f32145bc8bac857aa00264f2",
       "version_major": 2,
       "version_minor": 0
      },
      "text/plain": [
       "Image(value=b'')"
      ]
     },
     "metadata": {},
     "output_type": "display_data"
    }
   ],
   "source": [
    "#carta=\"1 El Gallo\"\n",
    "#file=open('./cartas/'+carta.lower()+'.jpg',\"rb\")\n",
    "#image=file.read()\n",
    "#img=widgets.Image(value=image,format='JPG',width=200)\n",
    "#display(img)\n",
    "def imagen_carta(carta):\n",
    "    import os\n",
    "    if(os.path.exists('./cartas/'+carta.lower()+'.jpg')):\n",
    "        file=open('./cartas/'+carta.lower()+'.jpg',\"rb\")\n",
    "        image=file.read()\n",
    "        img.value=image\n",
    "        img.width=100\n",
    "    else:\n",
    "        file=open('./cartas/'+'Nothing'+'.jpg',\"rb\")\n",
    "        image=file.read()\n",
    "        img.value=image\n",
    "    #img.((value=image,format='JPG',width=200)\n",
    "    \n",
    "display(img)\n",
    "imagen_carta(\"1 El Gallo\")\n",
    "imagen_carta(\"2 El Don\")"
   ]
  },
  {
   "cell_type": "markdown",
   "metadata": {
    "id": "O2KqYNKhTbWR"
   },
   "source": [
    "### 2.-Revolver las cartas y colocarlas en una lista. "
   ]
  },
  {
   "cell_type": "code",
   "execution_count": 5,
   "metadata": {
    "colab": {
     "base_uri": "https://localhost:8080/",
     "height": 54
    },
    "id": "ZD2XM11VTbWR",
    "outputId": "df3f0c8a-1645-43e5-c7a0-f322ca831087"
   },
   "outputs": [
    {
     "name": "stdout",
     "output_type": "stream",
     "text": [
      "['10 El Arbol', '14 La Muerte', '32 El Musico', '3 La Dama', '21 La Mano', '44 El Cantarito', '31 Las Jaras', '23 La Luna', '45 El Venado', '11 El Melon', '29 El Tambor', '17 El Bandolon', '5 El Paraguas', '34 El Soldado', '22 La Bota', '26 El Negrito', '27 El Corazon', '41 La Rosa', '46 El Sol', '35 La Estrella', '47 La Corona', '33 La Arana', '9 El Barril', '19 La Garza', '48 La Chalupa', '39 El Nopal', '15 La Pera', '37 El Mundo', '24 El Cotorro', '42 La Calavera', '16 La Bandera', '2 El Diablito', '40 El Alacran', '8 La Botella', '13 El Gorrito', '1 El Gallo', '30 El Camaron', '38 El Apache', '12 El Valiente', '43 La Campana', '6 La Sirena', '20 El Pajaro', '7 La Escalera', '36 El Cazo', '18 El Violoncello', '28 La Sandia', '4 El Catrin', '25 El Borracho']\n"
     ]
    }
   ],
   "source": [
    "\n",
    "     \"\"\"Gets the mazo set and mix them randomly\n",
    "\n",
    "    Parameters\n",
    "    ----------\n",
    "    mazo : set with the Loteria cards    \n",
    "\n",
    "    Returns\n",
    "    -------\n",
    "    list\n",
    "        a list with randomly mixed cards of Loteria\n",
    "    \"\"\"\n",
    "def Revolver(mazo):\n",
    "    import random\n",
    "    revol=list(random.sample(mazo, len(mazo)))\n",
    "    return revol\n",
    "\n",
    "print(Revolver(mazo))"
   ]
  },
  {
   "cell_type": "markdown",
   "metadata": {
    "id": "STuMqcweTbWU"
   },
   "source": [
    "### 3.- Subrutina cantando las cartas. La lista se debe ir vaciando, tal vez con un next y cada que se saca una carta imprimir que carta salio, esperar un tiempo configurable de delay por ejemplo 5s y proseguir hasta vaciar la lista.\n"
   ]
  },
  {
   "cell_type": "code",
   "execution_count": 6,
   "metadata": {
    "colab": {
     "base_uri": "https://localhost:8080/",
     "height": 1000
    },
    "id": "00BgzHexTbWV",
    "outputId": "18660fd6-a4f9-4dd0-d42a-e1c53223e8fa"
   },
   "outputs": [],
   "source": [
    "\n",
    "\"\"\"Starts a countdown to show the user how many time the card shout is shown.\n",
    "Parameters\n",
    " ----------\n",
    "t : time in seconds    \n",
    "\"\"\"\n",
    "def countdown(t): \n",
    "    import time\n",
    "    while t: \n",
    "        timer=str(t)\n",
    "        tiempo.value=timer \n",
    "        time.sleep(1) \n",
    "        t -= 1\n",
    "\n",
    "\"\"\"Pass the cards to a queue and display it to the user.\n",
    "\n",
    "    Parameters\n",
    "    ----------\n",
    "    out_cartas_IA : queue that is sent to the IA thread.\n",
    "    cartas: set of cards that will be shouted.\n",
    "    seconds: Time card is displayed\n",
    "    input_stop: queue to receive with stop sentinel\n",
    "    \"\"\"\n",
    "def cantando_cartas(out_cartas_IA,cartas,seconds,input_stop):\n",
    "    import time\n",
    "    random_mazo=iter(Revolver(cartas))\n",
    "    \n",
    "    for carta in cartas:\n",
    "        if not(input_stop.empty()):\n",
    "            data=input_stop.get()\n",
    "            if data is _sentinel:\n",
    "                out_cartas_IA.put(_sentinel)\n",
    "                break\n",
    "      #print(\"en canta cartas\")\n",
    "        countdown(seconds)\n",
    "        cantada=next(random_mazo)\n",
    "        cartas_cantadas.append(cantada)\n",
    "        out_cartas_IA.put(cantada)\n",
    "      #clear_output(wait=True)\n",
    "        carta_Griton.value=cantada\n",
    "        imagen_carta(cantada)\n",
    "     # Put the sentinel on the queue to indicate completion \n",
    "    out_cartas_IA.put(_sentinel) \n",
    "\n",
    "#cantando_cartas(p,mazo,1)\n",
    "#countdown(20)"
   ]
  },
  {
   "cell_type": "markdown",
   "metadata": {
    "id": "tKQOtSy1TbWX"
   },
   "source": [
    "# Area Creando los Cartones\n",
    "### Los cartones en la loteria se reparten entre los jugadores y cada jugador los va marcando conforme el griton los canta con un frijol o corcholata. \n",
    "\n",
    "## Requerimientos\n",
    "\n",
    "### 1.- Definir cada carton como un diccionario en el cual la llave sera la imagen y el valor un booleano representando el frijol que marca si la carta ya salio."
   ]
  },
  {
   "cell_type": "code",
   "execution_count": 7,
   "metadata": {
    "id": "gE5vkgvuTbWY"
   },
   "outputs": [],
   "source": [
    "\n",
    "     \"\"\"Randomly creates a card of n number of elements\n",
    "\n",
    "    Parameters\n",
    "    ----------\n",
    "    mazo : set with the Loteria cards\n",
    "    n : number of elements in carton\n",
    "\n",
    "    Returns\n",
    "    -------\n",
    "    Dictionary\n",
    "        dictionary of elements where key is card and value is boolean. True if selected, False if not selected.\n",
    "    \"\"\"\n",
    "def crear_carton(mazo,n):\n",
    "    import random\n",
    "    return {key:False for key in random.sample(mazo, n)}\n"
   ]
  },
  {
   "cell_type": "markdown",
   "metadata": {
    "id": "_0LHgW91TbWa"
   },
   "source": [
    "### 2.- Funcion para crear un carton de n elementos. Se itera un loop a traves de los n elementos a escoger de los contenidos en el mazo.  Los elementos en el carton no deben repetirse. Se generaran 2 cartones distintos uno para el jugador persona y otro para el jugador IA."
   ]
  },
  {
   "cell_type": "code",
   "execution_count": 8,
   "metadata": {
    "id": "Z2gPvYTlTbWa"
   },
   "outputs": [
    {
     "name": "stdout",
     "output_type": "stream",
     "text": [
      "{'32 El Musico': False, '43 La Campana': False, '8 La Botella': False, '39 El Nopal': False, '46 El Sol': False, '5 El Paraguas': False}\n",
      "{'31 Las Jaras': False, '1 El Gallo': False, '42 La Calavera': False, '12 El Valiente': False, '11 El Melon': False, '39 El Nopal': False}\n"
     ]
    }
   ],
   "source": [
    "carton_1={\"1 El Gallo\":False, \"2 El Diablo\":False, \"3 La Dama\":False, \"4 El Catrín\":False, \"5 El Paraguas\":False, \"6 La Sirena\":False}\n",
    "carton_2={\"43 La Campana\":False, \"2 El Diablo\":False, \"3 La Dama\":False, \"4 El Catrín\":False, \"5 El Paraguas\":False, \"6 La Sirena\":False}\n",
    "\n",
    "carton_1=crear_carton(mazo,6)\n",
    "carton_2=crear_carton(mazo,6)\n",
    "print(carton_1)\n",
    "print(carton_2)"
   ]
  },
  {
   "cell_type": "markdown",
   "metadata": {
    "id": "xHuXSlgTTbWe"
   },
   "source": [
    "# Area jugador IA\n",
    "### El jugador IA sera el contrincante del jugador organico. \n",
    "\n",
    "## Requerimientos\n",
    "\n",
    "### 1.- Definir la funcion que  llenara el carton (diccionario con cartas key y booleanos como frijoles.) Cada que el Griton IA cante una carta, el jugador IA buscara en su carton si esa carta esta en su carton y si esta la marcara con un frijol representado por un true en el booleano."
   ]
  },
  {
   "cell_type": "code",
   "execution_count": 9,
   "metadata": {
    "id": "O6H67jDGTbWe"
   },
   "outputs": [],
   "source": [
    "\"\"\"Checks the IA carton elements if cards where shouted\n",
    "\n",
    "Parameters\n",
    "----------\n",
    "in_cartas_IA : queue of cards that are shouted\n",
    "carton2 : IA carton\n",
    "\n",
    "\"\"\"\n",
    "\n",
    "def marca_carton(in_cartas_IA,carton2):\n",
    "    import time\n",
    "  # Check for termination \n",
    "    while True:\n",
    "        time.sleep(1)\n",
    "    #print(\"en marca carton\")\n",
    "        if not(in_cartas_IA.empty()):\n",
    "            data = in_cartas_IA.get() \n",
    "            if data in carton2:\n",
    "                carton2[data]=True\n",
    "                print(carton2,flush=True)\n",
    "            elif data is _sentinel: \n",
    "                in_cartas_IA.put(_sentinel) \n",
    "                break\n",
    "    \n",
    "\n",
    "\n"
   ]
  },
  {
   "cell_type": "markdown",
   "metadata": {
    "id": "nU36GRW4TbWi"
   },
   "source": [
    "# Area jugador organico\n",
    "### El jugador organico representa a un sistema vivo que interactua con los IA.\n",
    "\n",
    "## Requerimientos\n",
    "\n",
    "### 1.- Implementar una interfaz donde el jugador organico pueda poner su frijol en su carton. (Marcar con true el carton si su subproceso considera que el carton ya fue gritado por el Griton IA o bien un 0 si el cree que cometio un error) Esta area esta en la implementacion integrada por la interactividad."
   ]
  },
  {
   "cell_type": "code",
   "execution_count": 19,
   "metadata": {
    "id": "4srBAwLzTbWi"
   },
   "outputs": [],
   "source": []
  },
  {
   "cell_type": "markdown",
   "metadata": {},
   "source": [
    "# Area de Verificacion\n",
    "### 1.-Esta subrutina verifica quien gano una vez que su carton este lleno. En cuanto este lleno el sistema hara la parada y seleccionara el Ganador."
   ]
  },
  {
   "cell_type": "code",
   "execution_count": 10,
   "metadata": {},
   "outputs": [],
   "source": [
    "#Sentencia de parada gana IA\n",
    "\n",
    "\"\"\"Verifies if IA wins and stops threads\n",
    "\n",
    "Parameters\n",
    "----------\n",
    "out_stop_q : queue of to stop threads\n",
    "carton_2 : IA carton\n",
    "Loteria_flag:flag raised if the organic user shout Loteria\n",
    "\n",
    "\"\"\"\n",
    "\n",
    "def Verificar(out_stop_q,carton_2,Loteria_flag):\n",
    "    flag=True\n",
    "    while flag==True:\n",
    "        if not(out_stop_q.empty()):\n",
    "            data = out_q_stop.get() \n",
    "            if data is _sentinel:\n",
    "                out_stop_q.put(_sentinel) \n",
    "                break\n",
    "        if all(value == True for value in carton_2.values()):\n",
    "            Mensaje.value=\"Jugador IA ha ganado\"\n",
    "            out_stop_q.put(_sentinel)\n",
    "            print(cartas_cantadas)\n",
    "            print(carton_1)\n",
    "            print(carton_2)\n",
    "            break\n",
    "        elif(Loteria_flag==True):\n",
    "            out_stop_q.put(_sentinel)\n",
    "            print(cartas_cantadas)\n",
    "            print(carton_1)\n",
    "            print(carton_2)\n",
    "            break\n",
    "        \n",
    "    \n",
    "   \n",
    "          \n",
    "#Sentencia de parada jugador organico sujeta a verifiacion, los humanos son falibles y las IA tmb porque son creaciones humanas\n",
    "\"\"\"Event on click function it verifies if user wins, if it cheats or if he has not checked all his cards\n",
    "    Fills the Message Box\n",
    "\"\"\"\n",
    "def on_button_Loteria(b):\n",
    "    if all(value == True for value in carton_1.values()):\n",
    "        if all(key in cartas_cantadas for key in carton_1.keys()):\n",
    "            Mensaje.value=\"Jugador Organico ha ganado\"\n",
    "        else:\n",
    "            Mensaje.value=\"Tramposo. Marcaste Cartas que no han salido.\"\n",
    "        Loteria_flag=True\n",
    "        s.put(_sentinel)\n",
    "    else:\n",
    "        Mensaje.value=\"Continua Jugando aun no llenas tu carton\"\n"
   ]
  },
  {
   "cell_type": "markdown",
   "metadata": {
    "id": "o7jtv48CTbWl"
   },
   "source": [
    "# Area integracion \n",
    "### En esta zona se integrara todo el codigo para ejecutar el juego como tal.\n",
    "## Requerimientos\n",
    "### 1.-Integrar el codigo definido en el pseudocodigo/diagrama de flujo para la interaccion entre las dos IA y el jugador organico. El sistema se implementara secuencialmente y posteriormente en 3 threads distintos."
   ]
  },
  {
   "cell_type": "code",
   "execution_count": 11,
   "metadata": {
    "colab": {
     "base_uri": "https://localhost:8080/",
     "height": 118
    },
    "id": "KBfw5bOBgpk_",
    "outputId": "a2b64165-a9b6-49f5-bf90-3219a32f6406"
   },
   "outputs": [
    {
     "name": "stdout",
     "output_type": "stream",
     "text": [
      "Mensajes al Usuario\n"
     ]
    },
    {
     "data": {
      "application/vnd.jupyter.widget-view+json": {
       "model_id": "5811215c06054faf9aafc15b11503936",
       "version_major": 2,
       "version_minor": 0
      },
      "text/plain": [
       "Text(value='')"
      ]
     },
     "metadata": {},
     "output_type": "display_data"
    },
    {
     "name": "stdout",
     "output_type": "stream",
     "text": [
      "Carta Cantada\n"
     ]
    },
    {
     "data": {
      "application/vnd.jupyter.widget-view+json": {
       "model_id": "060d54b5f32145bc8bac857aa00264f2",
       "version_major": 2,
       "version_minor": 0
      },
      "text/plain": [
       "Image(value=b'\\xff\\xd8\\xff\\xe0\\x00\\x10JFIF\\x00\\x01\\x01\\x01\\x00x\\x00x\\x00\\x00\\xff\\xdb\\x00C\\x00\\x02\\x01\\x01\\x02\\…"
      ]
     },
     "metadata": {},
     "output_type": "display_data"
    },
    {
     "data": {
      "application/vnd.jupyter.widget-view+json": {
       "model_id": "ac13316ccfc940c9bc555d659ac2a514",
       "version_major": 2,
       "version_minor": 0
      },
      "text/plain": [
       "Text(value='')"
      ]
     },
     "metadata": {},
     "output_type": "display_data"
    },
    {
     "name": "stdout",
     "output_type": "stream",
     "text": [
      "Timer\n"
     ]
    },
    {
     "data": {
      "application/vnd.jupyter.widget-view+json": {
       "model_id": "317a349ccd4749e1a4bcbdea7689bfe7",
       "version_major": 2,
       "version_minor": 0
      },
      "text/plain": [
       "Text(value='')"
      ]
     },
     "metadata": {},
     "output_type": "display_data"
    },
    {
     "name": "stdout",
     "output_type": "stream",
     "text": [
      "Tu carton\n"
     ]
    },
    {
     "data": {
      "application/vnd.jupyter.widget-view+json": {
       "model_id": "db2967e5d7a34dd0b06264e0c3158c18",
       "version_major": 2,
       "version_minor": 0
      },
      "text/plain": [
       "Button(button_style='danger', description='47 La Corona', style=ButtonStyle())"
      ]
     },
     "metadata": {},
     "output_type": "display_data"
    },
    {
     "data": {
      "application/vnd.jupyter.widget-view+json": {
       "model_id": "8b7a91f598b54619a4238991157d994f",
       "version_major": 2,
       "version_minor": 0
      },
      "text/plain": [
       "Button(button_style='danger', description='40 El Alacran', style=ButtonStyle())"
      ]
     },
     "metadata": {},
     "output_type": "display_data"
    },
    {
     "data": {
      "application/vnd.jupyter.widget-view+json": {
       "model_id": "21e24443bc1e4e53bd1680cc11df14c1",
       "version_major": 2,
       "version_minor": 0
      },
      "text/plain": [
       "Button(button_style='danger', description='20 El Pajaro', style=ButtonStyle())"
      ]
     },
     "metadata": {},
     "output_type": "display_data"
    },
    {
     "data": {
      "application/vnd.jupyter.widget-view+json": {
       "model_id": "14e123713d5c432881ac40dd8915b187",
       "version_major": 2,
       "version_minor": 0
      },
      "text/plain": [
       "Button(button_style='danger', description='41 La Rosa', style=ButtonStyle())"
      ]
     },
     "metadata": {},
     "output_type": "display_data"
    },
    {
     "data": {
      "application/vnd.jupyter.widget-view+json": {
       "model_id": "7bbc34bf9ead4752b175c082f59b733c",
       "version_major": 2,
       "version_minor": 0
      },
      "text/plain": [
       "Button(button_style='danger', description='36 El Cazo', style=ButtonStyle())"
      ]
     },
     "metadata": {},
     "output_type": "display_data"
    },
    {
     "data": {
      "application/vnd.jupyter.widget-view+json": {
       "model_id": "391d9f81aa30454d842d83dba758e00d",
       "version_major": 2,
       "version_minor": 0
      },
      "text/plain": [
       "Button(button_style='danger', description='9 El Barril', style=ButtonStyle())"
      ]
     },
     "metadata": {},
     "output_type": "display_data"
    },
    {
     "data": {
      "application/vnd.jupyter.widget-view+json": {
       "model_id": "fbc86ae63a73457688dab0da36f46126",
       "version_major": 2,
       "version_minor": 0
      },
      "text/plain": [
       "Button(description='Grito Loteriaaaaa', style=ButtonStyle())"
      ]
     },
     "metadata": {},
     "output_type": "display_data"
    },
    {
     "name": "stdout",
     "output_type": "stream",
     "text": [
      "[]\n",
      "{'47 La Corona': False, '40 El Alacran': False, '20 El Pajaro': False, '41 La Rosa': False, '36 El Cazo': False, '9 El Barril': False}\n",
      "{'23 La Luna': False, '27 El Corazon': False, '10 El Arbol': False, '1 El Gallo': False, '46 El Sol': False, '14 La Muerte': False}\n",
      "{'47 La Corona': False, '40 El Alacran': True, '20 El Pajaro': False, '41 La Rosa': False, '36 El Cazo': False, '9 El Barril': False}\n",
      "{'47 La Corona': True, '40 El Alacran': True, '20 El Pajaro': False, '41 La Rosa': False, '36 El Cazo': False, '9 El Barril': False}\n",
      "{'47 La Corona': True, '40 El Alacran': True, '20 El Pajaro': True, '41 La Rosa': False, '36 El Cazo': False, '9 El Barril': False}\n",
      "{'47 La Corona': True, '40 El Alacran': True, '20 El Pajaro': True, '41 La Rosa': True, '36 El Cazo': False, '9 El Barril': False}\n",
      "{'47 La Corona': True, '40 El Alacran': True, '20 El Pajaro': True, '41 La Rosa': True, '36 El Cazo': True, '9 El Barril': False}\n",
      "{'47 La Corona': True, '40 El Alacran': True, '20 El Pajaro': True, '41 La Rosa': True, '36 El Cazo': True, '9 El Barril': True}\n",
      "{'23 La Luna': False, '27 El Corazon': True, '10 El Arbol': False, '1 El Gallo': False, '46 El Sol': False, '14 La Muerte': False}\n",
      "{'23 La Luna': False, '27 El Corazon': True, '10 El Arbol': True, '1 El Gallo': False, '46 El Sol': False, '14 La Muerte': False}\n",
      "{'23 La Luna': True, '27 El Corazon': True, '10 El Arbol': True, '1 El Gallo': False, '46 El Sol': False, '14 La Muerte': False}\n",
      "{'23 La Luna': True, '27 El Corazon': True, '10 El Arbol': True, '1 El Gallo': True, '46 El Sol': False, '14 La Muerte': False}\n",
      "{'23 La Luna': True, '27 El Corazon': True, '10 El Arbol': True, '1 El Gallo': True, '46 El Sol': False, '14 La Muerte': True}\n",
      "{'47 La Corona': True, '40 El Alacran': True, '20 El Pajaro': True, '41 La Rosa': True, '36 El Cazo': True, '9 El Barril': False}\n",
      "{'47 La Corona': True, '40 El Alacran': True, '20 El Pajaro': True, '41 La Rosa': True, '36 El Cazo': True, '9 El Barril': True}\n",
      "{'23 La Luna': True, '27 El Corazon': True, '10 El Arbol': True, '1 El Gallo': True, '46 El Sol': True, '14 La Muerte': True}['8 La Botella', '29 El Tambor', '39 El Nopal', '18 El Violoncello', '25 El Borracho', '24 El Cotorro', '31 Las Jaras', '7 La Escalera', '13 El Gorrito', '30 El Camaron', '15 La Pera', '2 El Diablito', '42 La Calavera', '11 El Melon', '27 El Corazon', '10 El Arbol', '12 El Valiente', '5 El Paraguas', '35 La Estrella', '36 El Cazo', '4 El Catrin', '16 La Bandera', '32 El Musico', '48 La Chalupa', '26 El Negrito', '23 La Luna', '28 La Sandia', '43 La Campana', '6 La Sirena', '41 La Rosa', '1 El Gallo', '14 La Muerte', '47 La Corona', '44 El Cantarito', '19 La Garza', '21 La Mano', '33 La Arana', '46 El Sol']\n",
      "{'47 La Corona': True, '40 El Alacran': True, '20 El Pajaro': True, '41 La Rosa': True, '36 El Cazo': True, '9 El Barril': True}\n",
      "{'23 La Luna': True, '27 El Corazon': True, '10 El Arbol': True, '1 El Gallo': True, '46 El Sol': True, '14 La Muerte': True}\n",
      "\n"
     ]
    }
   ],
   "source": [
    "#Queue to pass the shouted cards\n",
    "q = Queue() \n",
    "#Queue to pass the stop sentinel\n",
    "s= Queue()\n",
    "#number of threads\n",
    "num_fetch_threads = 4\n",
    "#stop condition\n",
    "Loteria_flag=False\n",
    "# Object that signals shutdown \n",
    "_sentinel = object() \n",
    "#Array to verify which cards where shout\n",
    "cartas_cantadas=[]\n",
    "\n",
    "#Creacion de los cartones\n",
    "carton_1=crear_carton(mazo,6)\n",
    "carton_2=crear_carton(mazo,6)\n",
    "\n",
    "#array of button to display the carton\n",
    "button=[]\n",
    "i=0\n",
    "#Text box clean message\n",
    "Mensaje.value=\"\"\n",
    "carta_Griton.value=\"\"\n",
    "tiempo.value=\"\"\n",
    "#test box indication messages\n",
    "print(\"Mensajes al Usuario\")\n",
    "display(Mensaje)\n",
    "print(\"Carta Cantada\")\n",
    "display(img)\n",
    "display(carta_Griton)\n",
    "print(\"Timer\")\n",
    "display(tiempo)\n",
    "Mensaje.value=\"Inicia el juego\"\n",
    "print(\"Tu carton\")\n",
    "#Event that changes the card style\n",
    "def on_button_clicked(b):\n",
    "    carton_1[b.description]=not(carton_1[b.description])\n",
    "    if carton_1[b.description]==True:\n",
    "        b.button_style='success'\n",
    "    else:\n",
    "        b.button_style='danger'\n",
    "    print(carton_1)\n",
    "\n",
    "#Dynamic creation of buttons depending on the card\n",
    "for key in carton_1.keys():\n",
    "    button.append(widgets.Button(description=key,button_style='danger'))\n",
    "    button[i].on_click(on_button_clicked)\n",
    "    display(button[i])\n",
    "    i=i+1\n",
    "#Button to shout Loteria\n",
    "display(button_Loteria)\n",
    "\n",
    "#Simultaneous threads Griton,IA Checking is card, #verification\n",
    "t1 = Thread(target = cantando_cartas, args =(q,Revolver(mazo),5,s)) \n",
    "t2 = Thread(target = marca_carton, args =(q,carton_2)) \n",
    "t3 = Thread(target = Verificar, args =(s,carton_2,Loteria_flag)) \n",
    "t1.start() \n",
    "t2.start()\n",
    "t3.start()\n",
    "\n",
    "#t1.join()\n",
    "#t2.join()\n",
    "#t3.join()\n",
    "\n",
    "#Subrutina to generate the stop condition if user shout Loteria.\n",
    "def Terminar(terminar_q,carton_1_2,Loteria_flag):\n",
    "    Loteria_flag=True\n",
    "    terminar_q.put(_sentinel)\n",
    "    \n",
    "    \n",
    "#Click Event if user clicks shout loteria button.\n",
    "def on_button_Loteria(b):\n",
    "    if all(value == True for value in carton_1.values()):\n",
    "        if all(key in cartas_cantadas for key in carton_1.keys()):\n",
    "            Mensaje.value=\"Jugador Organico ha ganado\"\n",
    "        else:\n",
    "            Mensaje.value=\"Tramposo. Marcaste Cartas que no han salido.\"\n",
    "        Loteria_flag=True\n",
    "        t4=Thread(target=Terminar,args=(s,carton_1,Loteria_flag))\n",
    "        t4.start()\n",
    "    else:\n",
    "        Mensaje.value=\"Continua Jugando aun no llenas tu carton\"\n",
    "        \n",
    "button_Loteria.on_click(on_button_Loteria)\n",
    "\n",
    "print(cartas_cantadas)\n",
    "print(carton_1)\n",
    "print(carton_2)"
   ]
  },
  {
   "cell_type": "code",
   "execution_count": 9,
   "metadata": {
    "id": "6dB5r-PrTbWl"
   },
   "outputs": [
    {
     "ename": "IndentationError",
     "evalue": "expected an indented block (<ipython-input-9-d975f9f31d94>, line 8)",
     "output_type": "error",
     "traceback": [
      "\u001b[1;36m  File \u001b[1;32m\"<ipython-input-9-d975f9f31d94>\"\u001b[1;36m, line \u001b[1;32m8\u001b[0m\n\u001b[1;33m    data = input() # Something akin to this\u001b[0m\n\u001b[1;37m    ^\u001b[0m\n\u001b[1;31mIndentationError\u001b[0m\u001b[1;31m:\u001b[0m expected an indented block\n"
     ]
    }
   ],
   "source": [
    "from IPython.display import clear_output\n",
    "\n",
    "for i in range(10):\n",
    "    clear_output(wait=True)\n",
    "    print(i, flush=True)\n",
    "\n",
    "    def get_input():\n",
    "    data = input() # Something akin to this\n",
    "    return data"
   ]
  },
  {
   "cell_type": "code",
   "execution_count": 3,
   "metadata": {},
   "outputs": [
    {
     "name": "stdout",
     "output_type": "stream",
     "text": [
      "Hello World!\n"
     ]
    }
   ],
   "source": [
    "from IPython.display import clear_output\n",
    "import threading\n",
    "\n",
    "def get_input():\n",
    "    data = input() # Something akin to this\n",
    "    return data\n",
    "input_thread = threading.Thread(target=get_input)\n",
    "input_thread.start()\n",
    "\n",
    "for i in range(10):\n",
    "    clear_output(wait=True)\n",
    "    print(\"Hello World!\")"
   ]
  },
  {
   "cell_type": "code",
   "execution_count": null,
   "metadata": {},
   "outputs": [],
   "source": [
    "from IPython.display import display,Markdown"
   ]
  },
  {
   "cell_type": "code",
   "execution_count": 31,
   "metadata": {},
   "outputs": [
    {
     "data": {
      "text/markdown": [
       "*some markdown* $\\phi$"
      ],
      "text/plain": [
       "<IPython.core.display.Markdown object>"
      ]
     },
     "metadata": {},
     "output_type": "display_data"
    },
    {
     "data": {
      "text/latex": [
       "\\phi"
      ],
      "text/plain": [
       "<IPython.core.display.Latex object>"
      ]
     },
     "metadata": {},
     "output_type": "display_data"
    }
   ],
   "source": [
    "from IPython.display import display, Markdown, Latex\n",
    "display(Markdown('*some markdown* $\\phi$'))\n",
    "# If you particularly want to display maths, this is more direct:\n",
    "display(Latex('\\phi'))"
   ]
  },
  {
   "cell_type": "markdown",
   "metadata": {},
   "source": []
  },
  {
   "cell_type": "code",
   "execution_count": 35,
   "metadata": {},
   "outputs": [
    {
     "ename": "NameError",
     "evalue": "name 'raw_input' is not defined",
     "output_type": "error",
     "traceback": [
      "\u001b[1;31m---------------------------------------------------------------------------\u001b[0m",
      "\u001b[1;31mNameError\u001b[0m                                 Traceback (most recent call last)",
      "\u001b[1;32m<ipython-input-35-f14f6ef7ffbd>\u001b[0m in \u001b[0;36m<module>\u001b[1;34m\u001b[0m\n\u001b[0;32m     18\u001b[0m \u001b[1;33m\u001b[0m\u001b[0m\n\u001b[0;32m     19\u001b[0m \u001b[1;32mwhile\u001b[0m \u001b[1;32mTrue\u001b[0m\u001b[1;33m:\u001b[0m\u001b[1;33m\u001b[0m\u001b[1;33m\u001b[0m\u001b[0m\n\u001b[1;32m---> 20\u001b[1;33m     \u001b[1;32mif\u001b[0m \u001b[0mraw_input\u001b[0m\u001b[1;33m(\u001b[0m\u001b[1;33m)\u001b[0m \u001b[1;33m==\u001b[0m \u001b[1;34m'disarm'\u001b[0m\u001b[1;33m:\u001b[0m\u001b[1;33m\u001b[0m\u001b[1;33m\u001b[0m\u001b[0m\n\u001b[0m\u001b[0;32m     21\u001b[0m         \u001b[0mother_function\u001b[0m\u001b[1;33m(\u001b[0m\u001b[1;33m)\u001b[0m\u001b[1;33m\u001b[0m\u001b[1;33m\u001b[0m\u001b[0m\n\u001b[0;32m     22\u001b[0m         \u001b[0msys\u001b[0m\u001b[1;33m.\u001b[0m\u001b[0mexit\u001b[0m\u001b[1;33m(\u001b[0m\u001b[1;33m)\u001b[0m\u001b[1;33m\u001b[0m\u001b[1;33m\u001b[0m\u001b[0m\n",
      "\u001b[1;31mNameError\u001b[0m: name 'raw_input' is not defined"
     ]
    },
    {
     "name": "stdout",
     "output_type": "stream",
     "text": [
      "disarm me by typing disarm\n",
      "disarm me by typing disarm\n",
      "disarm me by typing disarm\n",
      "disarm me by typing disarm\n",
      "disarm me by typing disarm\n",
      "disarm me by typing disarm\n",
      "disarm me by typing disarm\n",
      "disarm me by typing disarm\n"
     ]
    }
   ],
   "source": [
    "import threading\n",
    "import time\n",
    "import sys\n",
    "\n",
    "def background():\n",
    "        while True:\n",
    "            time.sleep(3)\n",
    "            print(\"disarm me by typing disarm\")\n",
    "\n",
    "\n",
    "def other_function():\n",
    "    print ('You disarmed me! Dying now.')\n",
    "\n",
    "# now threading1 runs regardless of user input\n",
    "threading1 = threading.Thread(target=background)\n",
    "threading1.daemon = True\n",
    "threading1.start()\n",
    "\n",
    "while True:\n",
    "    if raw_input() == 'disarm':\n",
    "        other_function()\n",
    "        sys.exit()\n",
    "    else:\n",
    "        print(\"not disarmed\")"
   ]
  },
  {
   "cell_type": "code",
   "execution_count": 6,
   "metadata": {},
   "outputs": [],
   "source": [
    "import threading\n",
    "\n",
    "def get_input():\n",
    "    data = input() # Something akin to this\n",
    "    return data\n",
    "\n",
    "input_thread = threading.Thread(target=get_input)\n",
    "input_thread.start()\n"
   ]
  },
  {
   "cell_type": "code",
   "execution_count": null,
   "metadata": {},
   "outputs": [],
   "source": [
    "def get_input():\n",
    "    data = input() # Something akin to this\n",
    "    return data"
   ]
  }
 ],
 "metadata": {
  "celltoolbar": "Raw Cell Format",
  "colab": {
   "collapsed_sections": [],
   "name": "Copy of Loteria.ipynb",
   "provenance": []
  },
  "kernelspec": {
   "display_name": "Python 3",
   "language": "python",
   "name": "python3"
  },
  "language_info": {
   "codemirror_mode": {
    "name": "ipython",
    "version": 3
   },
   "file_extension": ".py",
   "mimetype": "text/x-python",
   "name": "python",
   "nbconvert_exporter": "python",
   "pygments_lexer": "ipython3",
   "version": "3.8.3"
  }
 },
 "nbformat": 4,
 "nbformat_minor": 1
}
